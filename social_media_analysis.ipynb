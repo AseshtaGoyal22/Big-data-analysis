!pip install pyspark
from pyspark.sql import SparkSession
# start spark session
spark= SparkSession.builder\
    .appName("SocialMediaPostAnalysis")\
    .getOrCreate()
# load the csv
df=spark.read.csv("/content/social_media_posts.csv", header=True, inferSchema=True)
# preview data
df.show(5)
df.printSchema()
# total posts
print("total posts:",df.count())
# most common posts types
df.groupBy("post_type").count().orderBy("count", ascending=False).show()
# average likes per post type
df.groupBy("post_type").avg("likes").orderBy("avg(likes)", ascending=False).show()
#posts by device type
df.groupBy("device_type").count().show()
# top 5 posts with most likes
df.orderBy("likes", ascending=False).select("user_id","post_type","likes").show(5)
#done
spark.stop()
