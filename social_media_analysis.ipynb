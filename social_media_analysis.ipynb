{
  "nbformat": 4,
  "nbformat_minor": 0,
  "metadata": {
    "colab": {
      "provenance": []
    },
    "kernelspec": {
      "name": "python3",
      "display_name": "Python 3"
    },
    "language_info": {
      "name": "python"
    }
  },
  "cells": [
    {
      "cell_type": "code",
      "execution_count": 6,
      "metadata": {
        "colab": {
          "base_uri": "https://localhost:8080/"
        },
        "id": "C4uhn3hGez6k",
        "outputId": "860d7eb4-10f2-4217-89dd-f055d541645b"
      },
      "outputs": [
        {
          "output_type": "stream",
          "name": "stdout",
          "text": [
            "Requirement already satisfied: pyspark in /usr/local/lib/python3.11/dist-packages (3.5.5)\n",
            "Requirement already satisfied: py4j==0.10.9.7 in /usr/local/lib/python3.11/dist-packages (from pyspark) (0.10.9.7)\n",
            "+-------+---------+----------------+-----+--------+-----------+--------+\n",
            "|user_id|post_type|       timestamp|likes|comments|device_type|location|\n",
            "+-------+---------+----------------+-----+--------+-----------+--------+\n",
            "|user_12|     link|11-01-2024 17:21|  432|      83|     mobile|     USA|\n",
            "| user_1|    story|15-01-2024 13:22|  456|      36|     tablet|   India|\n",
            "| user_1|   status|14-01-2024 17:18|  332|      80|    desktop|   India|\n",
            "|user_12|    photo|14-01-2024 19:25|  142|      43|    desktop|  Canada|\n",
            "| user_3|   status|11-01-2024 06:29|  253|      73|    desktop|     USA|\n",
            "+-------+---------+----------------+-----+--------+-----------+--------+\n",
            "only showing top 5 rows\n",
            "\n",
            "root\n",
            " |-- user_id: string (nullable = true)\n",
            " |-- post_type: string (nullable = true)\n",
            " |-- timestamp: string (nullable = true)\n",
            " |-- likes: integer (nullable = true)\n",
            " |-- comments: integer (nullable = true)\n",
            " |-- device_type: string (nullable = true)\n",
            " |-- location: string (nullable = true)\n",
            "\n",
            "total posts: 100\n",
            "+---------+-----+\n",
            "|post_type|count|\n",
            "+---------+-----+\n",
            "|   status|   29|\n",
            "|    story|   21|\n",
            "|    photo|   19|\n",
            "|     link|   18|\n",
            "|    video|   13|\n",
            "+---------+-----+\n",
            "\n",
            "+---------+------------------+\n",
            "|post_type|        avg(likes)|\n",
            "+---------+------------------+\n",
            "|    story| 293.6190476190476|\n",
            "|    photo|274.63157894736844|\n",
            "|   status|245.55172413793105|\n",
            "|    video|             237.0|\n",
            "|     link|198.94444444444446|\n",
            "+---------+------------------+\n",
            "\n",
            "+-----------+-----+\n",
            "|device_type|count|\n",
            "+-----------+-----+\n",
            "|    desktop|   36|\n",
            "|     mobile|   28|\n",
            "|     tablet|   36|\n",
            "+-----------+-----+\n",
            "\n",
            "+-------+---------+-----+\n",
            "|user_id|post_type|likes|\n",
            "+-------+---------+-----+\n",
            "|user_10|    photo|  498|\n",
            "| user_6|   status|  493|\n",
            "|user_11|   status|  490|\n",
            "|user_17|   status|  487|\n",
            "|user_13|     link|  475|\n",
            "+-------+---------+-----+\n",
            "only showing top 5 rows\n",
            "\n"
          ]
        }
      ],
      "source": [
        "!pip install pyspark\n",
        "from pyspark.sql import SparkSession\n",
        "# start spark session\n",
        "spark= SparkSession.builder\\\n",
        "    .appName(\"SocialMediaPostAnalysis\")\\\n",
        "    .getOrCreate()\n",
        "# load the csv\n",
        "df=spark.read.csv(\"/content/social_media_posts.csv\", header=True, inferSchema=True)\n",
        "# preview data\n",
        "df.show(5)\n",
        "df.printSchema()\n",
        "# total posts\n",
        "print(\"total posts:\",df.count())\n",
        "# most common posts types\n",
        "df.groupBy(\"post_type\").count().orderBy(\"count\", ascending=False).show()\n",
        "# average likes per post type\n",
        "df.groupBy(\"post_type\").avg(\"likes\").orderBy(\"avg(likes)\", ascending=False).show()\n",
        "#posts by device type\n",
        "df.groupBy(\"device_type\").count().show()\n",
        "# top 5 posts with most likes\n",
        "df.orderBy(\"likes\", ascending=False).select(\"user_id\",\"post_type\",\"likes\").show(5)\n",
        "#done\n",
        "spark.stop()"
      ]
    },
    {
      "cell_type": "code",
      "source": [
        "S"
      ],
      "metadata": {
        "id": "EgkunCDkghvp"
      },
      "execution_count": null,
      "outputs": []
    }
  ]
}